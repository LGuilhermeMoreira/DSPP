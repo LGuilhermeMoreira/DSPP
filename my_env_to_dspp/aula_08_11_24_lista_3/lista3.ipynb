{
 "cells": [
  {
   "cell_type": "code",
   "execution_count": 5,
   "id": "initial_id",
   "metadata": {
    "collapsed": true
   },
   "outputs": [],
   "source": [
    "from bs4 import BeautifulSoup\n",
    "import requests\n",
    "from PyPDF2 import PdfReader\n",
    "import pytesseract\n",
    "from PIL import Image"
   ]
  },
  {
   "cell_type": "markdown",
   "id": "d417150e",
   "metadata": {},
   "source": [
    "1. Scraping de Websites com BeautifulSoup"
   ]
  },
  {
   "cell_type": "code",
   "execution_count": 6,
   "id": "373aa491",
   "metadata": {},
   "outputs": [
    {
     "name": "stdout",
     "output_type": "stream",
     "text": [
      "Example Domain ['https://www.iana.org/domains/example']\n"
     ]
    }
   ],
   "source": [
    "response = requests.get('https://example.com.')\n",
    "doc = BeautifulSoup(response.content,'html.parser')\n",
    "title = doc.title.string\n",
    "links = [a['href'] for a in doc.select('a[href]')]\n",
    "print(title,links)"
   ]
  },
  {
   "cell_type": "markdown",
   "id": "377b5eea",
   "metadata": {},
   "source": [
    "2. Extração de Texto de Imagens com OCR"
   ]
  },
  {
   "cell_type": "code",
   "execution_count": 7,
   "id": "56b82833",
   "metadata": {},
   "outputs": [
    {
     "name": "stdout",
     "output_type": "stream",
     "text": [
      "2. Extragéo de Texto de Imagens com OCR\n",
      "\n"
     ]
    }
   ],
   "source": [
    "image = Image.open('image.png')\n",
    "text = pytesseract.image_to_string(image)\n",
    "print(text)\n",
    "\n",
    "with open('file.txt','w') as file:\n",
    "    file.write(text)"
   ]
  },
  {
   "cell_type": "markdown",
   "id": "386dc7b3",
   "metadata": {},
   "source": [
    "3. Implementação Completa de um Extrator de Dados Estruturados e Não Estruturados"
   ]
  },
  {
   "cell_type": "code",
   "execution_count": 8,
   "id": "eb10f6dc",
   "metadata": {},
   "outputs": [],
   "source": [
    "class Extrator:\n",
    "    def extract_data(self, type: str, file: str = None, uri: str = None):\n",
    "        if file is None and uri is None:\n",
    "            raise Exception('Falha ao passar todos os parâmetros da função')\n",
    "\n",
    "        if type == 'html':\n",
    "            if uri is not None:\n",
    "                response = requests.get(uri)\n",
    "                doc = BeautifulSoup(response.content, 'html.parser')\n",
    "            elif file is not None:\n",
    "                with open(file, encoding='utf-8') as f:\n",
    "                    doc = BeautifulSoup(f, 'html.parser')\n",
    "            else:\n",
    "                raise Exception(\"Falha ao definir a origem do HTML\")\n",
    "            \n",
    "            title = doc.title.string if doc.title else \"Sem título\"\n",
    "            links = [a['href'] for a in doc.select('a[href]')]\n",
    "            print(title, links)\n",
    "            return\n",
    "\n",
    "        elif type == 'pdf':\n",
    "            if file is None:\n",
    "                raise Exception(\"Falha ao encontrar o path do PDF\")\n",
    "            reader = PdfReader(file)\n",
    "            for page in reader.pages:\n",
    "                print(page.extract_text())\n",
    "            return\n",
    "\n",
    "        elif type == 'image':\n",
    "            if file is None:\n",
    "                raise Exception(\"Falha ao encontrar o path da imagem\")\n",
    "            image = Image.open(file)\n",
    "            text = pytesseract.image_to_string(image)\n",
    "            print(text)\n",
    "            return\n",
    "\n",
    "        else:\n",
    "            raise Exception(\"Tipo de arquivo não suportado.\")\n"
   ]
  },
  {
   "cell_type": "code",
   "execution_count": 9,
   "id": "3150ced9",
   "metadata": {},
   "outputs": [
    {
     "name": "stdout",
     "output_type": "stream",
     "text": [
      "2. Extragéo de Texto de Imagens com OCR\n",
      "\n"
     ]
    }
   ],
   "source": [
    "extrator = Extrator()\n",
    "extrator.extract_data(\"image\",file=\"image.png\")"
   ]
  }
 ],
 "metadata": {
  "kernelspec": {
   "display_name": "my_env_to_dspp",
   "language": "python",
   "name": "python3"
  },
  "language_info": {
   "codemirror_mode": {
    "name": "ipython",
    "version": 3
   },
   "file_extension": ".py",
   "mimetype": "text/x-python",
   "name": "python",
   "nbconvert_exporter": "python",
   "pygments_lexer": "ipython3",
   "version": "3.12.3"
  }
 },
 "nbformat": 4,
 "nbformat_minor": 5
}
