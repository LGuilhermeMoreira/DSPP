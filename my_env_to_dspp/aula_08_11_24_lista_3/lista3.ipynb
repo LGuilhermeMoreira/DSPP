{
 "cells": [
  {
   "cell_type": "code",
   "execution_count": 18,
   "id": "initial_id",
   "metadata": {
    "collapsed": true
   },
   "outputs": [],
   "source": [
    "from bs4 import BeautifulSoup\n",
    "import requests\n",
    "\n",
    "import pytesseract\n",
    "from PIL import Image"
   ]
  },
  {
   "cell_type": "markdown",
   "id": "d417150e",
   "metadata": {},
   "source": [
    "1. Scraping de Websites com BeautifulSoup"
   ]
  },
  {
   "cell_type": "code",
   "execution_count": 19,
   "id": "373aa491",
   "metadata": {},
   "outputs": [
    {
     "name": "stdout",
     "output_type": "stream",
     "text": [
      "Example Domain ['https://www.iana.org/domains/example']\n"
     ]
    }
   ],
   "source": [
    "response = requests.get('https://example.com.')\n",
    "doc = BeautifulSoup(response.content,'html.parser')\n",
    "title = doc.title.string\n",
    "links = [a['href'] for a in doc.select('a[href]')]\n",
    "print(title,links)"
   ]
  },
  {
   "cell_type": "markdown",
   "id": "377b5eea",
   "metadata": {},
   "source": [
    "2. Extração de Texto de Imagens com OCR"
   ]
  },
  {
   "cell_type": "code",
   "execution_count": 20,
   "id": "56b82833",
   "metadata": {},
   "outputs": [
    {
     "name": "stdout",
     "output_type": "stream",
     "text": [
      "2. Extragéo de Texto de Imagens com OCR\n",
      "\n"
     ]
    }
   ],
   "source": [
    "image = Image.open('image.png')\n",
    "text = pytesseract.image_to_string(image)\n",
    "print(text)\n",
    "\n",
    "with open('file.txt','w') as file:\n",
    "    file.write(text)"
   ]
  },
  {
   "cell_type": "markdown",
   "id": "386dc7b3",
   "metadata": {},
   "source": [
    "3. Implementação Completa de um Extrator de Dados Estruturados e Não Estruturados"
   ]
  },
  {
   "cell_type": "code",
   "execution_count": null,
   "id": "eb10f6dc",
   "metadata": {},
   "outputs": [],
   "source": [
    "class Extrator:\n",
    "    def extract_data(path,file)"
   ]
  }
 ],
 "metadata": {
  "kernelspec": {
   "display_name": "my_env_to_dspp",
   "language": "python",
   "name": "python3"
  },
  "language_info": {
   "codemirror_mode": {
    "name": "ipython",
    "version": 3
   },
   "file_extension": ".py",
   "mimetype": "text/x-python",
   "name": "python",
   "nbconvert_exporter": "python",
   "pygments_lexer": "ipython3",
   "version": "3.12.3"
  }
 },
 "nbformat": 4,
 "nbformat_minor": 5
}
