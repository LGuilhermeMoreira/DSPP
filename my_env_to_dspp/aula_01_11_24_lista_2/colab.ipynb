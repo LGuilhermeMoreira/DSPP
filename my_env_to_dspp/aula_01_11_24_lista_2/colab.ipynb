{
 "cells": [
  {
   "cell_type": "markdown",
   "metadata": {},
   "source": [
    "1 - Leitura de arquivos: Leia vários arquivos de texto em um diretório, processando o conteúdo de cada um."
   ]
  },
  {
   "cell_type": "code",
   "execution_count": 42,
   "metadata": {},
   "outputs": [],
   "source": [
    "import os\n",
    "import zipfile"
   ]
  },
  {
   "cell_type": "code",
   "execution_count": 43,
   "metadata": {},
   "outputs": [],
   "source": [
    "#definindo variaveis\n",
    "path_to_dir = './dir/'\n",
    "files = ['test1.txt','test2.txt']\n",
    "consolidated_file_file = 'arquivo_consolidado.txt'\n",
    "zip_file = 'file.zip'\n",
    "#lendo os arquvios do diretório \n",
    "files_os = os.listdir(path_to_dir)"
   ]
  },
  {
   "cell_type": "code",
   "execution_count": 44,
   "metadata": {},
   "outputs": [],
   "source": [
    "def processa_arquivo_inicial(content):\n",
    "    print(content.upper())"
   ]
  },
  {
   "cell_type": "code",
   "execution_count": 45,
   "metadata": {},
   "outputs": [
    {
     "name": "stdout",
     "output_type": "stream",
     "text": [
      "TEST 1\n",
      "TEST 2\n"
     ]
    }
   ],
   "source": [
    "# lendo arquvios\n",
    "for file in files:\n",
    "    with open(path_to_dir+file, 'r') as file_result:\n",
    "        content = file_result.read()\n",
    "        processa_arquivo_inicial(content)"
   ]
  },
  {
   "cell_type": "markdown",
   "metadata": {},
   "source": [
    "2 - Processamento de Dados: Remova quaisquer linhas em branco e faça uma contagem do número de palavras e caracteres em cada arquivo."
   ]
  },
  {
   "cell_type": "code",
   "execution_count": 46,
   "metadata": {},
   "outputs": [],
   "source": [
    "def retira_linhas_em_branco(content):\n",
    "    content.strip()\n",
    "    return content\n",
    "\n",
    "def conta_palavras(content):\n",
    "    palavras = content.split(' ')\n",
    "    return len(palavras)\n",
    "\n",
    "def conta_caracteres(content):\n",
    "    return len(content)"
   ]
  },
  {
   "cell_type": "code",
   "execution_count": 47,
   "metadata": {},
   "outputs": [
    {
     "name": "stdout",
     "output_type": "stream",
     "text": [
      "numero de palavras:  2\n",
      "numero de caracteres:  6\n",
      "numero de palavras:  2\n",
      "numero de caracteres:  6\n"
     ]
    }
   ],
   "source": [
    "for file in files:\n",
    "    with open(path_to_dir+file, 'r') as file_result:\n",
    "        content = file_result.read()\n",
    "        b = retira_linhas_em_branco(content)\n",
    "        numero_palavras = conta_palavras(b)\n",
    "        print('numero de palavras: ',numero_palavras)\n",
    "        numero_caracteres = conta_caracteres(b)\n",
    "        print('numero de caracteres: ',numero_caracteres)"
   ]
  },
  {
   "cell_type": "markdown",
   "metadata": {},
   "source": [
    "3 - Escrita em um Arquivo Consolidado: Grave os resultados em um arquivo consolidado, listando o nome de cada arquivo e as estatísticas correspondentes (número de palavras e caracteres).\n"
   ]
  },
  {
   "cell_type": "code",
   "execution_count": 48,
   "metadata": {},
   "outputs": [],
   "source": [
    "for file in files:\n",
    "    with open(path_to_dir+file, 'r') as file_result:\n",
    "        with open(path_to_dir+consolidated_file_file,'a') as consolidated_file:\n",
    "            content = file_result.read()\n",
    "            data_file = {\n",
    "                'nome do arquivo':file,\n",
    "                'numero de caracteres' : conta_caracteres(content),\n",
    "                'numero de palavra' : conta_palavras(content),\n",
    "                'conteudo' : content,\n",
    "            }\n",
    "            print(data_file,file=consolidated_file)"
   ]
  },
  {
   "cell_type": "markdown",
   "metadata": {},
   "source": [
    "4 - Compactação em Arquivo ZIP: Após processar e consolidar os dados, compacte o arquivo consolidado em um arquivo ZIP."
   ]
  },
  {
   "cell_type": "code",
   "execution_count": 49,
   "metadata": {},
   "outputs": [],
   "source": [
    "with zipfile.ZipFile(zip_file,'w') as zip:\n",
    "    zip.write(path_to_dir+consolidated_file_file)"
   ]
  }
 ],
 "metadata": {
  "kernelspec": {
   "display_name": "my_env_to_dspp",
   "language": "python",
   "name": "python3"
  },
  "language_info": {
   "codemirror_mode": {
    "name": "ipython",
    "version": 3
   },
   "file_extension": ".py",
   "mimetype": "text/x-python",
   "name": "python",
   "nbconvert_exporter": "python",
   "pygments_lexer": "ipython3",
   "version": "3.12.3"
  }
 },
 "nbformat": 4,
 "nbformat_minor": 2
}
