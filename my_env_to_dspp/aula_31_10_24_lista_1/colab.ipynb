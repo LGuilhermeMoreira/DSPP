{
 "cells": [
  {
   "cell_type": "code",
   "execution_count": 41,
   "metadata": {},
   "outputs": [],
   "source": [
    "import pandas as pd"
   ]
  },
  {
   "cell_type": "markdown",
   "metadata": {},
   "source": [
    "1 - lendo arquivo csv"
   ]
  },
  {
   "cell_type": "code",
   "execution_count": 42,
   "metadata": {},
   "outputs": [],
   "source": [
    "df = pd.read_csv('vendas.csv')"
   ]
  },
  {
   "cell_type": "markdown",
   "metadata": {},
   "source": [
    "2 - Criando coluna com total recebido por vendas"
   ]
  },
  {
   "cell_type": "code",
   "execution_count": 43,
   "metadata": {},
   "outputs": [
    {
     "data": {
      "text/html": [
       "<div>\n",
       "<style scoped>\n",
       "    .dataframe tbody tr th:only-of-type {\n",
       "        vertical-align: middle;\n",
       "    }\n",
       "\n",
       "    .dataframe tbody tr th {\n",
       "        vertical-align: top;\n",
       "    }\n",
       "\n",
       "    .dataframe thead th {\n",
       "        text-align: right;\n",
       "    }\n",
       "</style>\n",
       "<table border=\"1\" class=\"dataframe\">\n",
       "  <thead>\n",
       "    <tr style=\"text-align: right;\">\n",
       "      <th></th>\n",
       "      <th>Data</th>\n",
       "      <th>Produto</th>\n",
       "      <th>Quantidade</th>\n",
       "      <th>Preco_Unitario</th>\n",
       "      <th>Total_vendas</th>\n",
       "    </tr>\n",
       "  </thead>\n",
       "  <tbody>\n",
       "    <tr>\n",
       "      <th>0</th>\n",
       "      <td>14/02/2023</td>\n",
       "      <td>Produto C</td>\n",
       "      <td>2</td>\n",
       "      <td>13.04</td>\n",
       "      <td>26.08</td>\n",
       "    </tr>\n",
       "    <tr>\n",
       "      <th>1</th>\n",
       "      <td>17/02/2023</td>\n",
       "      <td>Produto D</td>\n",
       "      <td>19</td>\n",
       "      <td>17.46</td>\n",
       "      <td>331.74</td>\n",
       "    </tr>\n",
       "    <tr>\n",
       "      <th>2</th>\n",
       "      <td>06/03/2023</td>\n",
       "      <td>Produto C</td>\n",
       "      <td>1</td>\n",
       "      <td>78.92</td>\n",
       "      <td>78.92</td>\n",
       "    </tr>\n",
       "    <tr>\n",
       "      <th>3</th>\n",
       "      <td>09/03/2023</td>\n",
       "      <td>Produto D</td>\n",
       "      <td>12</td>\n",
       "      <td>85.82</td>\n",
       "      <td>1029.84</td>\n",
       "    </tr>\n",
       "    <tr>\n",
       "      <th>4</th>\n",
       "      <td>09/03/2023</td>\n",
       "      <td>Produto A</td>\n",
       "      <td>19</td>\n",
       "      <td>42.69</td>\n",
       "      <td>811.11</td>\n",
       "    </tr>\n",
       "    <tr>\n",
       "      <th>...</th>\n",
       "      <td>...</td>\n",
       "      <td>...</td>\n",
       "      <td>...</td>\n",
       "      <td>...</td>\n",
       "      <td>...</td>\n",
       "    </tr>\n",
       "    <tr>\n",
       "      <th>495</th>\n",
       "      <td>16/02/2023</td>\n",
       "      <td>Produto B</td>\n",
       "      <td>12</td>\n",
       "      <td>95.08</td>\n",
       "      <td>1140.96</td>\n",
       "    </tr>\n",
       "    <tr>\n",
       "      <th>496</th>\n",
       "      <td>01/01/2023</td>\n",
       "      <td>Produto A</td>\n",
       "      <td>4</td>\n",
       "      <td>43.42</td>\n",
       "      <td>173.68</td>\n",
       "    </tr>\n",
       "    <tr>\n",
       "      <th>497</th>\n",
       "      <td>21/02/2023</td>\n",
       "      <td>Produto D</td>\n",
       "      <td>8</td>\n",
       "      <td>70.82</td>\n",
       "      <td>566.56</td>\n",
       "    </tr>\n",
       "    <tr>\n",
       "      <th>498</th>\n",
       "      <td>08/02/2023</td>\n",
       "      <td>Produto A</td>\n",
       "      <td>19</td>\n",
       "      <td>92.41</td>\n",
       "      <td>1755.79</td>\n",
       "    </tr>\n",
       "    <tr>\n",
       "      <th>499</th>\n",
       "      <td>31/03/2023</td>\n",
       "      <td>Produto A</td>\n",
       "      <td>9</td>\n",
       "      <td>18.56</td>\n",
       "      <td>167.04</td>\n",
       "    </tr>\n",
       "  </tbody>\n",
       "</table>\n",
       "<p>500 rows × 5 columns</p>\n",
       "</div>"
      ],
      "text/plain": [
       "           Data    Produto  Quantidade  Preco_Unitario  Total_vendas\n",
       "0    14/02/2023  Produto C           2           13.04         26.08\n",
       "1    17/02/2023  Produto D          19           17.46        331.74\n",
       "2    06/03/2023  Produto C           1           78.92         78.92\n",
       "3    09/03/2023  Produto D          12           85.82       1029.84\n",
       "4    09/03/2023  Produto A          19           42.69        811.11\n",
       "..          ...        ...         ...             ...           ...\n",
       "495  16/02/2023  Produto B          12           95.08       1140.96\n",
       "496  01/01/2023  Produto A           4           43.42        173.68\n",
       "497  21/02/2023  Produto D           8           70.82        566.56\n",
       "498  08/02/2023  Produto A          19           92.41       1755.79\n",
       "499  31/03/2023  Produto A           9           18.56        167.04\n",
       "\n",
       "[500 rows x 5 columns]"
      ]
     },
     "execution_count": 43,
     "metadata": {},
     "output_type": "execute_result"
    }
   ],
   "source": [
    "df['Total_vendas'] = df['Quantidade']  * df['Preco_Unitario'] \n",
    "df"
   ]
  },
  {
   "cell_type": "markdown",
   "metadata": {},
   "source": [
    "pegando "
   ]
  },
  {
   "cell_type": "code",
   "execution_count": 44,
   "metadata": {},
   "outputs": [
    {
     "data": {
      "text/plain": [
       "Produto\n",
       "Produto A    56157.09\n",
       "Produto B    59552.39\n",
       "Produto C    62625.58\n",
       "Produto D    56742.88\n",
       "Produto E    53471.72\n",
       "Name: Total_vendas, dtype: float64"
      ]
     },
     "execution_count": 44,
     "metadata": {},
     "output_type": "execute_result"
    }
   ],
   "source": [
    "total_vendas = df.groupby('Produto')['Total_vendas'].sum()\n",
    "total_vendas"
   ]
  },
  {
   "cell_type": "markdown",
   "metadata": {},
   "source": [
    "3 - filtrando vendas por datas"
   ]
  },
  {
   "cell_type": "code",
   "execution_count": 45,
   "metadata": {},
   "outputs": [
    {
     "data": {
      "text/html": [
       "<div>\n",
       "<style scoped>\n",
       "    .dataframe tbody tr th:only-of-type {\n",
       "        vertical-align: middle;\n",
       "    }\n",
       "\n",
       "    .dataframe tbody tr th {\n",
       "        vertical-align: top;\n",
       "    }\n",
       "\n",
       "    .dataframe thead th {\n",
       "        text-align: right;\n",
       "    }\n",
       "</style>\n",
       "<table border=\"1\" class=\"dataframe\">\n",
       "  <thead>\n",
       "    <tr style=\"text-align: right;\">\n",
       "      <th></th>\n",
       "      <th>Data</th>\n",
       "      <th>Produto</th>\n",
       "      <th>Quantidade</th>\n",
       "      <th>Preco_Unitario</th>\n",
       "      <th>Total_vendas</th>\n",
       "    </tr>\n",
       "  </thead>\n",
       "  <tbody>\n",
       "    <tr>\n",
       "      <th>5</th>\n",
       "      <td>2023-01-10</td>\n",
       "      <td>Produto D</td>\n",
       "      <td>19</td>\n",
       "      <td>32.21</td>\n",
       "      <td>611.99</td>\n",
       "    </tr>\n",
       "    <tr>\n",
       "      <th>7</th>\n",
       "      <td>2023-01-22</td>\n",
       "      <td>Produto A</td>\n",
       "      <td>16</td>\n",
       "      <td>23.71</td>\n",
       "      <td>379.36</td>\n",
       "    </tr>\n",
       "    <tr>\n",
       "      <th>13</th>\n",
       "      <td>2023-01-13</td>\n",
       "      <td>Produto C</td>\n",
       "      <td>15</td>\n",
       "      <td>63.57</td>\n",
       "      <td>953.55</td>\n",
       "    </tr>\n",
       "    <tr>\n",
       "      <th>22</th>\n",
       "      <td>2023-01-26</td>\n",
       "      <td>Produto B</td>\n",
       "      <td>19</td>\n",
       "      <td>32.29</td>\n",
       "      <td>613.51</td>\n",
       "    </tr>\n",
       "    <tr>\n",
       "      <th>25</th>\n",
       "      <td>2023-01-10</td>\n",
       "      <td>Produto E</td>\n",
       "      <td>18</td>\n",
       "      <td>39.10</td>\n",
       "      <td>703.80</td>\n",
       "    </tr>\n",
       "    <tr>\n",
       "      <th>...</th>\n",
       "      <td>...</td>\n",
       "      <td>...</td>\n",
       "      <td>...</td>\n",
       "      <td>...</td>\n",
       "      <td>...</td>\n",
       "    </tr>\n",
       "    <tr>\n",
       "      <th>488</th>\n",
       "      <td>2023-01-31</td>\n",
       "      <td>Produto A</td>\n",
       "      <td>9</td>\n",
       "      <td>78.17</td>\n",
       "      <td>703.53</td>\n",
       "    </tr>\n",
       "    <tr>\n",
       "      <th>491</th>\n",
       "      <td>2023-01-08</td>\n",
       "      <td>Produto B</td>\n",
       "      <td>16</td>\n",
       "      <td>95.07</td>\n",
       "      <td>1521.12</td>\n",
       "    </tr>\n",
       "    <tr>\n",
       "      <th>492</th>\n",
       "      <td>2023-01-22</td>\n",
       "      <td>Produto E</td>\n",
       "      <td>16</td>\n",
       "      <td>31.78</td>\n",
       "      <td>508.48</td>\n",
       "    </tr>\n",
       "    <tr>\n",
       "      <th>493</th>\n",
       "      <td>2023-01-09</td>\n",
       "      <td>Produto C</td>\n",
       "      <td>10</td>\n",
       "      <td>32.53</td>\n",
       "      <td>325.30</td>\n",
       "    </tr>\n",
       "    <tr>\n",
       "      <th>496</th>\n",
       "      <td>2023-01-01</td>\n",
       "      <td>Produto A</td>\n",
       "      <td>4</td>\n",
       "      <td>43.42</td>\n",
       "      <td>173.68</td>\n",
       "    </tr>\n",
       "  </tbody>\n",
       "</table>\n",
       "<p>166 rows × 5 columns</p>\n",
       "</div>"
      ],
      "text/plain": [
       "          Data    Produto  Quantidade  Preco_Unitario  Total_vendas\n",
       "5   2023-01-10  Produto D          19           32.21        611.99\n",
       "7   2023-01-22  Produto A          16           23.71        379.36\n",
       "13  2023-01-13  Produto C          15           63.57        953.55\n",
       "22  2023-01-26  Produto B          19           32.29        613.51\n",
       "25  2023-01-10  Produto E          18           39.10        703.80\n",
       "..         ...        ...         ...             ...           ...\n",
       "488 2023-01-31  Produto A           9           78.17        703.53\n",
       "491 2023-01-08  Produto B          16           95.07       1521.12\n",
       "492 2023-01-22  Produto E          16           31.78        508.48\n",
       "493 2023-01-09  Produto C          10           32.53        325.30\n",
       "496 2023-01-01  Produto A           4           43.42        173.68\n",
       "\n",
       "[166 rows x 5 columns]"
      ]
     },
     "execution_count": 45,
     "metadata": {},
     "output_type": "execute_result"
    }
   ],
   "source": [
    "df['Data'] = pd.to_datetime(df['Data'], format='%d/%m/%Y') \n",
    "vendas_janeiro = df[df['Data'].dt.month == 1 & (df['Data'].dt.year == 2023)]\n",
    "vendas_janeiro"
   ]
  },
  {
   "cell_type": "markdown",
   "metadata": {},
   "source": [
    "4 - salvando em um arquivo csv"
   ]
  },
  {
   "cell_type": "code",
   "execution_count": 46,
   "metadata": {},
   "outputs": [],
   "source": [
    "vendas_janeiro.to_csv('vendas_janeiro.csv')"
   ]
  }
 ],
 "metadata": {
  "kernelspec": {
   "display_name": "my_env_to_dspp",
   "language": "python",
   "name": "python3"
  },
  "language_info": {
   "codemirror_mode": {
    "name": "ipython",
    "version": 3
   },
   "file_extension": ".py",
   "mimetype": "text/x-python",
   "name": "python",
   "nbconvert_exporter": "python",
   "pygments_lexer": "ipython3",
   "version": "3.12.3"
  }
 },
 "nbformat": 4,
 "nbformat_minor": 2
}
