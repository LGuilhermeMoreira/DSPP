{
 "cells": [
  {
   "cell_type": "markdown",
   "metadata": {},
   "source": [
    "Começando com arquivos de prioridade\n"
   ]
  },
  {
   "cell_type": "code",
   "execution_count": 1,
   "metadata": {},
   "outputs": [],
   "source": [
    "import configparser"
   ]
  },
  {
   "cell_type": "code",
   "execution_count": 3,
   "metadata": {},
   "outputs": [],
   "source": [
    "config = configparser.ConfigParser()\n",
    "config['Default'] ={\n",
    "    'database': 'localhost',\n",
    "    'user' : 'root',\n",
    "    'password' : 'password'\n",
    "}"
   ]
  },
  {
   "cell_type": "code",
   "execution_count": 4,
   "metadata": {},
   "outputs": [],
   "source": [
    "with open('config.ini','w') as configFile:\n",
    "    config.write(configFile)"
   ]
  }
 ],
 "metadata": {
  "kernelspec": {
   "display_name": "my_env_to_dspp",
   "language": "python",
   "name": "python3"
  },
  "language_info": {
   "codemirror_mode": {
    "name": "ipython",
    "version": 3
   },
   "file_extension": ".py",
   "mimetype": "text/x-python",
   "name": "python",
   "nbconvert_exporter": "python",
   "pygments_lexer": "ipython3",
   "version": "3.12.3"
  }
 },
 "nbformat": 4,
 "nbformat_minor": 2
}
